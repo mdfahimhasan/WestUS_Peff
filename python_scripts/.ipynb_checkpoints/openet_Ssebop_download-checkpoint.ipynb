{
 "cells": [
  {
   "cell_type": "markdown",
   "id": "a46f8d2e",
   "metadata": {},
   "source": [
    "original codes from OpenET SSEBOP Github page\n",
    "https://github.com/Open-ET/openet-ssebop/blob/main/examples/collection_interpolate.ipynb"
   ]
  },
  {
   "cell_type": "code",
   "execution_count": 1,
   "id": "856eeff0",
   "metadata": {},
   "outputs": [],
   "source": [
    "import datetime\n",
    "import pprint\n",
    "\n",
    "import ee\n",
    "import pandas as pd\n",
    "\n",
    "from IPython.display import Image\n",
    "import openet.ssebop as model\n",
    "\n",
    "ee.Initialize()"
   ]
  },
  {
   "cell_type": "code",
   "execution_count": 2,
   "id": "df7bdaad",
   "metadata": {},
   "outputs": [],
   "source": [
    "ndvi_palette = ['#EFE7E1', '#003300']\n",
    "et_palette = [\n",
    "    'DEC29B', 'E6CDA1', 'EDD9A6', 'F5E4A9', 'FFF4AD', 'C3E683', '6BCC5C', \n",
    "    '3BB369', '20998F', '1C8691', '16678A', '114982', '0B2C7A']\n",
    "\n",
    "image_size = 768\n",
    "landsat_cs = 30"
   ]
  },
  {
   "cell_type": "markdown",
   "id": "c4a91f7d",
   "metadata": {},
   "source": [
    "# Input parameters"
   ]
  },
  {
   "cell_type": "code",
   "execution_count": 3,
   "id": "3273aabd",
   "metadata": {},
   "outputs": [],
   "source": [
    "collections = ['LANDSAT/LE07/C01/T1_TOA'] # ['LANDSAT/LC08/C01/T1_TOA'] \n",
    "\n",
    "et_reference_source = 'projects/climate-engine/cimis/daily'\n",
    "et_reference_band = 'ETr_ASCE'\n",
    "et_reference_factor = 1.0\n",
    "et_reference_resample = 'nearest'\n",
    "et_reference_date_type = 'daily'\n",
    "# et_reference_source = 'IDAHO_EPSCOR/GRIDMET'\n",
    "# et_reference_band = 'etr'\n",
    "# et_reference_factor = 0.85\n",
    "# et_reference_resample = 'nearest'\n",
    "# et_reference_date_type = 'daily'\n",
    "\n",
    "# Date range you want to aggregate ET over\n",
    "# End date is inclusive (like filterDate() calls)\n",
    "start_date = '2010-07-01'\n",
    "end_date = '2010-08-01'\n",
    "\n",
    "# Only keep images with an average cloud cover less than\n",
    "# Cloud cover filter parameter is not being passed in (yet)\n",
    "cloud_cover = 20\n",
    "\n",
    "# Number of extra days (at start and end) to include in interpolation\n",
    "interp_days = 32\n",
    "# Interpolation method - currently only LINEAR is supported\n",
    "interp_method = 'LINEAR'\n",
    "\n",
    "test_xy = [-121.5265, 38.7399]\n",
    "test_point = ee.Geometry.Point(test_xy)\n",
    "\n",
    "# study_area = ee.Geometry.Rectangle(-122.00, 38.60, -121.00, 39.0)\n",
    "study_area = ee.Geometry.Rectangle(\n",
    "    test_xy[0] - 0.08, test_xy[1] - 0.04, \n",
    "    test_xy[0] + 0.08, test_xy[1] + 0.04)\n",
    "study_region = study_area.bounds(1, 'EPSG:4326')\n",
    "study_crs = 'EPSG:4326'"
   ]
  },
  {
   "cell_type": "markdown",
   "id": "252e99da",
   "metadata": {},
   "source": [
    "# Build the Landsat 8 C1 TOA Collection object"
   ]
  },
  {
   "cell_type": "code",
   "execution_count": 4,
   "id": "a04a7af3",
   "metadata": {},
   "outputs": [],
   "source": [
    "model_obj = model.Collection(\n",
    "    collections=collections,\n",
    "    et_reference_source=et_reference_source, \n",
    "    et_reference_band=et_reference_band,\n",
    "    et_reference_factor=et_reference_factor,\n",
    "    et_reference_resample=et_reference_resample,\n",
    "    et_reference_date_type=et_reference_date_type,\n",
    "    start_date=start_date,\n",
    "    end_date=end_date,\n",
    "    geometry=test_point,\n",
    "    cloud_cover_max=cloud_cover,\n",
    "    # filter_args={},\n",
    ")"
   ]
  },
  {
   "cell_type": "code",
   "execution_count": 5,
   "id": "efd4d114",
   "metadata": {},
   "outputs": [
    {
     "name": "stdout",
     "output_type": "stream",
     "text": [
      "['LANDSAT/LE07/C01/T1_TOA/LE07_044033_20100705',\n",
      " 'LANDSAT/LE07/C01/T1_TOA/LE07_044033_20100721']\n"
     ]
    }
   ],
   "source": [
    "pprint.pprint(model_obj.get_image_ids())"
   ]
  },
  {
   "cell_type": "code",
   "execution_count": 6,
   "id": "ef65565e",
   "metadata": {},
   "outputs": [],
   "source": [
    "def get_region_df(info):\n",
    "    \"\"\"Convert the output of getRegions to a pandas dataframe\"\"\"\n",
    "    col_dict = {}\n",
    "    info_dict = {}\n",
    "    for i, k in enumerate(info[0][4:]):\n",
    "        col_dict[k] = i+4\n",
    "        info_dict[k] = {}\n",
    "        \n",
    "    for row in info[1:]:\n",
    "        date = datetime.datetime.utcfromtimestamp(row[3] / 1000.0).strftime('%Y-%m-%d')\n",
    "        for k, v in col_dict.items():\n",
    "            info_dict[k][date] = row[col_dict[k]]\n",
    "            \n",
    "    return pd.DataFrame.from_dict(info_dict)"
   ]
  },
  {
   "cell_type": "markdown",
   "id": "4d9f07b2",
   "metadata": {},
   "source": [
    "# Interpolate Monthly ET"
   ]
  },
  {
   "cell_type": "code",
   "execution_count": 7,
   "id": "9090ad73",
   "metadata": {},
   "outputs": [
    {
     "name": "stdout",
     "output_type": "stream",
     "text": [
      "                    et  et_reference  et_fraction\n",
      "2010-07-01  233.327805    276.489319     0.843894\n"
     ]
    }
   ],
   "source": [
    "monthly_coll = model_obj.interpolate(\n",
    "    t_interval='monthly', \n",
    "    variables=['et', 'et_reference', 'et_fraction'], \n",
    "    interp_method=interp_method,\n",
    "    interp_days=interp_days,\n",
    ")\n",
    "monthly_df = get_region_df(monthly_coll.getRegion(test_point, scale=30).getInfo())\n",
    "pprint.pprint(monthly_df)"
   ]
  },
  {
   "cell_type": "markdown",
   "id": "4a6215a4",
   "metadata": {},
   "source": [
    "# Sum of Daily ET (for one month)"
   ]
  },
  {
   "cell_type": "code",
   "execution_count": 8,
   "id": "0d3a3ba8",
   "metadata": {},
   "outputs": [],
   "source": [
    "# image_url = ee.Image(daily_coll.select(['et']).sum())\\\n",
    "#     .reproject(crs=study_crs, scale=100)\\\n",
    "#     .getThumbURL({'min': 0.0, 'max': 300, 'palette': et_palette, \n",
    "#                   'region': study_region, 'dimensions': image_size})\n",
    "# Image(image_url, embed=True, format='png')"
   ]
  },
  {
   "cell_type": "markdown",
   "id": "169c77ca",
   "metadata": {},
   "source": [
    "# Monthly ET (for one month)"
   ]
  },
  {
   "cell_type": "code",
   "execution_count": 9,
   "id": "852126da",
   "metadata": {},
   "outputs": [
    {
     "data": {
      "image/png": "[encoded data removed]",
      "text/plain": [
       "<IPython.core.display.Image object>"
      ]
     },
     "execution_count": 9,
     "metadata": {},
     "output_type": "execute_result"
    }
   ],
   "source": [
    "image_url = ee.Image(monthly_coll.select(['et']).sum())\\\n",
    "    .reproject(crs=study_crs, scale=2000)\\\n",
    "    .getThumbURL({'min': 0.0, 'max': 350, 'palette': et_palette, \n",
    "                  'region': study_region, 'dimensions': image_size, })\n",
    "Image(image_url, embed=True, format='png')"
   ]
  },
  {
   "cell_type": "code",
   "execution_count": 13,
   "id": "5ba9bdc0",
   "metadata": {},
   "outputs": [],
   "source": [
    "download_url = ee.Image(monthly_coll.select(['et']).sum())\\\n",
    "    .reproject(crs=study_crs, scale=2000)\\\n",
    "    .getDownloadURL({'name': 'ssebop', 'crs': 'EPSG:4326', \n",
    "                    'scale': 2220,  # in meter. equal to ~0.02 deg\n",
    "                    'region': study_region, 'format': 'GEO_TIFF'})"
   ]
  },
  {
   "cell_type": "code",
   "execution_count": 14,
   "id": "5402335a",
   "metadata": {},
   "outputs": [
    {
     "data": {
      "text/plain": [
       "1217"
      ]
     },
     "execution_count": 14,
     "metadata": {},
     "output_type": "execute_result"
    }
   ],
   "source": [
    "import requests\n",
    "\n",
    "r = requests.get(download_url, allow_redirects=True)\n",
    "filename = 'ssebop_et.tif'\n",
    "open(filename, 'wb').write(r.content)"
   ]
  },
  {
   "cell_type": "code",
   "execution_count": null,
   "id": "90d56b7f",
   "metadata": {},
   "outputs": [],
   "source": []
  }
 ],
 "metadata": {
  "kernelspec": {
   "display_name": "Python 3 (ipykernel)",
   "language": "python",
   "name": "python3"
  },
  "language_info": {
   "codemirror_mode": {
    "name": "ipython",
    "version": 3
   },
   "file_extension": ".py",
   "mimetype": "text/x-python",
   "name": "python",
   "nbconvert_exporter": "python",
   "pygments_lexer": "ipython3",
   "version": "3.8.13"
  }
 },
 "nbformat": 4,
 "nbformat_minor": 5
}
